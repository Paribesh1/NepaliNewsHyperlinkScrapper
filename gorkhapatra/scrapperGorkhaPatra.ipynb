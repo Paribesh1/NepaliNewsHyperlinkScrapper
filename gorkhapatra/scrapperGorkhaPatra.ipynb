{
 "cells": [
  {
   "cell_type": "code",
   "execution_count": 10,
   "metadata": {},
   "outputs": [],
   "source": [
    "import requests\n",
    "from bs4 import BeautifulSoup"
   ]
  },
  {
   "cell_type": "code",
   "execution_count": 11,
   "metadata": {},
   "outputs": [],
   "source": [
    "base_url = \"https://gorkhapatraonline.com/categories/national?page=\"\n",
    "total_pages = 3\n",
    "all_headlines = []\n",
    "all_links = []"
   ]
  },
  {
   "cell_type": "code",
   "execution_count": 12,
   "metadata": {},
   "outputs": [],
   "source": [
    "# Create a text file to save error hyperlinks\n",
    "error_links_file = open(\"test_error_links.txt\", \"w\")"
   ]
  },
  {
   "cell_type": "code",
   "execution_count": 13,
   "metadata": {},
   "outputs": [],
   "source": [
    "for page in range(1, total_pages+1):\n",
    "    url = f\"{base_url}{page}\"\n",
    "\n",
    "    response = requests.get(url)\n",
    "\n",
    "    soup = BeautifulSoup(response.content, \"html.parser\")\n",
    "\n",
    "    headlines = soup.find_all(\"div\", class_=\"item-content\")\n",
    "    headlines_text = [headline.text.strip() for headline in headlines]\n",
    "    links = [headline.a[\"href\"] for headline in headlines]\n",
    "\n",
    "    all_headlines.extend(headlines_text)\n",
    "    all_links.extend(links)\n",
    "\n",
    "    # Try to access the hyperlink, and if an error occurs, write it to error_links.txt\n",
    "    for link in links:\n",
    "        try:\n",
    "            response = requests.get(link)\n",
    "            response.raise_for_status()\n",
    "        except requests.exceptions.HTTPError as errh:\n",
    "            error_links_file.write(f\"HTTP Error: {errh} for link: {link}\\n\")\n",
    "        except requests.exceptions.ConnectionError as errc:\n",
    "            error_links_file.write(f\"Error Connecting: {errc} for link: {link}\\n\")\n",
    "        except requests.exceptions.Timeout as errt:\n",
    "            error_links_file.write(f\"Timeout Error: {errt} for link: {link}\\n\")\n",
    "        except requests.exceptions.RequestException as err:\n",
    "            error_links_file.write(f\"Something went wrong: {err} for link: {link}\\n\")\n"
   ]
  },
  {
   "cell_type": "code",
   "execution_count": 14,
   "metadata": {},
   "outputs": [],
   "source": [
    "# Close the error_links.txt file\n",
    "error_links_file.close()"
   ]
  },
  {
   "cell_type": "code",
   "execution_count": 15,
   "metadata": {},
   "outputs": [
    {
     "name": "stdout",
     "output_type": "stream",
     "text": [
      "Data saved to headlines.txt from 3 pages.\n"
     ]
    }
   ],
   "source": [
    "# Save the data to a text file\n",
    "with open(\"headlines.txt\", \"w\") as file:\n",
    "    for headline, link in zip(all_headlines, all_links):\n",
    "        file.write(f\"Headline: {headline}\\n\")\n",
    "        file.write(f\"Link: {link}\\n\")\n",
    "        file.write(\"=\"*50 + \"\\n\")\n",
    "\n",
    "print(f\"Data saved to headlines.txt from {total_pages} pages.\")"
   ]
  },
  {
   "cell_type": "code",
   "execution_count": null,
   "metadata": {},
   "outputs": [],
   "source": []
  },
  {
   "cell_type": "code",
   "execution_count": null,
   "metadata": {},
   "outputs": [],
   "source": []
  }
 ],
 "metadata": {
  "kernelspec": {
   "display_name": "env",
   "language": "python",
   "name": "python3"
  },
  "language_info": {
   "codemirror_mode": {
    "name": "ipython",
    "version": 3
   },
   "file_extension": ".py",
   "mimetype": "text/x-python",
   "name": "python",
   "nbconvert_exporter": "python",
   "pygments_lexer": "ipython3",
   "version": "3.10.12"
  },
  "orig_nbformat": 4
 },
 "nbformat": 4,
 "nbformat_minor": 2
}
