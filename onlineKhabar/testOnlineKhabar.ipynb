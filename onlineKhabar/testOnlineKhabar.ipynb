{
 "cells": [
  {
   "cell_type": "code",
   "execution_count": 9,
   "metadata": {},
   "outputs": [],
   "source": [
    "import requests\n",
    "from bs4 import BeautifulSoup"
   ]
  },
  {
   "cell_type": "code",
   "execution_count": 10,
   "metadata": {},
   "outputs": [],
   "source": [
    "url = \"https://www.onlinekhabar.com/content/news\""
   ]
  },
  {
   "cell_type": "code",
   "execution_count": 11,
   "metadata": {},
   "outputs": [],
   "source": [
    "# Send a request to the URL\n",
    "response = requests.get(url)"
   ]
  },
  {
   "cell_type": "code",
   "execution_count": 12,
   "metadata": {},
   "outputs": [],
   "source": [
    "soup = BeautifulSoup(response.content, \"html.parser\")"
   ]
  },
  {
   "cell_type": "code",
   "execution_count": 13,
   "metadata": {},
   "outputs": [],
   "source": [
    "# Find all the headlines and their hyperlinks\n",
    "headlines = soup.find_all(\"div\", class_=\"ok-news-post\")\n",
    "headlines_text = [headline.text.strip() for headline in headlines]\n",
    "links = [headline.a[\"href\"] for headline in headlines]"
   ]
  },
  {
   "cell_type": "code",
   "execution_count": 14,
   "metadata": {},
   "outputs": [
    {
     "name": "stdout",
     "output_type": "stream",
     "text": [
      "Data saved to headlines.txt\n"
     ]
    }
   ],
   "source": [
    "# Create a text file to save the headlines and links\n",
    "with open(\"testheadlines.txt\", \"w\") as file:\n",
    "    for headline, link in zip(headlines_text, links):\n",
    "        file.write(f\"Headline: {headline}\\n\")\n",
    "        file.write(f\"Link: {link}\\n\")\n",
    "        file.write(\"=\"*50 + \"\\n\")\n",
    "\n",
    "print(\"Data saved to headlines.txt\")"
   ]
  },
  {
   "cell_type": "code",
   "execution_count": 15,
   "metadata": {},
   "outputs": [
    {
     "name": "stdout",
     "output_type": "stream",
     "text": [
      "Data saved to headlines.txt\n"
     ]
    }
   ],
   "source": [
    "# Create a text file to save the headlines and links\n",
    "with open(\"testheadlines.txt\", \"w\") as file:\n",
    "    for headline, link in zip(headlines_text, links):\n",
    "        file.write(f\"Headline: {headline}\\n\")\n",
    "        file.write(f\"Link: {link}\\n\")\n",
    "        file.write(\"=\"*50 + \"\\n\")\n",
    "\n",
    "print(\"Data saved to headlines.txt\")"
   ]
  },
  {
   "cell_type": "code",
   "execution_count": null,
   "metadata": {},
   "outputs": [],
   "source": []
  },
  {
   "cell_type": "code",
   "execution_count": null,
   "metadata": {},
   "outputs": [],
   "source": []
  }
 ],
 "metadata": {
  "kernelspec": {
   "display_name": "env",
   "language": "python",
   "name": "python3"
  },
  "language_info": {
   "codemirror_mode": {
    "name": "ipython",
    "version": 3
   },
   "file_extension": ".py",
   "mimetype": "text/x-python",
   "name": "python",
   "nbconvert_exporter": "python",
   "pygments_lexer": "ipython3",
   "version": "3.10.12"
  }
 },
 "nbformat": 4,
 "nbformat_minor": 2
}
