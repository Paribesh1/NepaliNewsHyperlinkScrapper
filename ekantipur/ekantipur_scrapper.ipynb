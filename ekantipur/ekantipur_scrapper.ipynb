{
 "cells": [
  {
   "cell_type": "code",
   "execution_count": 1,
   "metadata": {},
   "outputs": [],
   "source": [
    "import requests\n",
    "from bs4 import BeautifulSoup\n",
    "from datetime import date, timedelta"
   ]
  },
  {
   "cell_type": "code",
   "execution_count": 2,
   "metadata": {},
   "outputs": [],
   "source": [
    "def get_link(url, date, error_file):\n",
    "    try:\n",
    "        getpage = requests.get(url+date)\n",
    "        getpage.raise_for_status()  # Raise HTTPError for bad responses\n",
    "        soup = BeautifulSoup(getpage.text, 'html.parser')\n",
    "        mydivs = soup.findAll(\"div\", {\"class\": \"teaser offset\"})\n",
    "        \n",
    "        with open(\"oneYearNews2.txt\", \"a+\") as f:\n",
    "            for divs in mydivs:\n",
    "                f.write(\"https://ekantipur.com\" + divs.find('a')['href'] + \"\\n\")\n",
    "    except requests.exceptions.HTTPError as http_err:\n",
    "        print(f\"HTTP error occurred: {http_err}\")\n",
    "        with open(error_file, \"a+\") as f:\n",
    "            f.write(f\"{url}{date}\\n\")\n",
    "    except Exception as err:\n",
    "        print(f\"An error occurred: {err}\")\n",
    "        with open(error_file, \"a+\") as f:\n",
    "            f.write(f\"{url}{date}\\n\")"
   ]
  },
  {
   "cell_type": "code",
   "execution_count": 4,
   "metadata": {},
   "outputs": [],
   "source": [
    "if __name__ == \"__main__\":\n",
    "    url = \"https://ekantipur.com/news/\"\n",
    "    start_date = date(2023, 1, 1)\n",
    "    end_date = date(2023, 12, 31)\n",
    "    delta = timedelta(days=1)\n",
    "    cus_date = []\n",
    "    error_file = \"error_links.txt\"\n",
    "    \n",
    "    while start_date <= end_date:\n",
    "        cus_date.append(start_date.strftime(\"%Y/%m/%d\"))\n",
    "        start_date += delta\n",
    "    \n",
    "    for i in cus_date:\n",
    "        get_link(url, i, error_file) "
   ]
  },
  {
   "cell_type": "code",
   "execution_count": null,
   "metadata": {},
   "outputs": [],
   "source": []
  }
 ],
 "metadata": {
  "kernelspec": {
   "display_name": "env",
   "language": "python",
   "name": "python3"
  },
  "language_info": {
   "codemirror_mode": {
    "name": "ipython",
    "version": 3
   },
   "file_extension": ".py",
   "mimetype": "text/x-python",
   "name": "python",
   "nbconvert_exporter": "python",
   "pygments_lexer": "ipython3",
   "version": "3.10.12"
  },
  "orig_nbformat": 4
 },
 "nbformat": 4,
 "nbformat_minor": 2
}
