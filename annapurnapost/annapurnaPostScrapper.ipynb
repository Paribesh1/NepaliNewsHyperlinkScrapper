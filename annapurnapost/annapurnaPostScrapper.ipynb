{
 "cells": [
  {
   "cell_type": "code",
   "execution_count": 2,
   "metadata": {},
   "outputs": [],
   "source": [
    "import requests\n",
    "from bs4 import BeautifulSoup"
   ]
  },
  {
   "cell_type": "code",
   "execution_count": 3,
   "metadata": {},
   "outputs": [],
   "source": [
    "base_url = \"https://annapurnapost.com/category/apheadline/?page=\"\n",
    "start_page = 301\n",
    "end_page = 433\n",
    "all_links = []"
   ]
  },
  {
   "cell_type": "code",
   "execution_count": 4,
   "metadata": {},
   "outputs": [],
   "source": [
    "# Create a text file to save hyperlinks\n",
    "hyperlinks_file = open(\"AnnapurnaPostHeadline301to433.txt\", \"w\")"
   ]
  },
  {
   "cell_type": "code",
   "execution_count": 5,
   "metadata": {},
   "outputs": [],
   "source": [
    "# Create a set to store error hyperlinks\n",
    "error_links = set()"
   ]
  },
  {
   "cell_type": "code",
   "execution_count": 6,
   "metadata": {},
   "outputs": [],
   "source": [
    "for page in range(start_page, end_page+1):\n",
    "    url = f\"{base_url}{page}\"\n",
    "\n",
    "    response = requests.get(url)\n",
    "\n",
    "    soup = BeautifulSoup(response.content, \"html.parser\")\n",
    "\n",
    "    headlines = soup.find_all(\"div\", class_=\"grid__card\")\n",
    "    links = [f\"https://annapurnapost.com{headline.a['href']}\" for headline in headlines]\n",
    "\n",
    "    all_links.extend(links)\n",
    "\n",
    "    # Try to access the hyperlink, and if an error occurs, add it to the error_links set\n",
    "    for link in links:\n",
    "        try:\n",
    "            response = requests.get(link)\n",
    "            response.raise_for_status()\n",
    "        except requests.exceptions.RequestException:\n",
    "            error_links.add(link)"
   ]
  },
  {
   "cell_type": "code",
   "execution_count": 7,
   "metadata": {},
   "outputs": [],
   "source": [
    "# Close the files\n",
    "hyperlinks_file.close()"
   ]
  },
  {
   "cell_type": "code",
   "execution_count": 8,
   "metadata": {},
   "outputs": [],
   "source": [
    "# Save the hyperlinks to a text file\n",
    "with open(\"AnnapurnaPostHeadline301to433.txt\", \"w\") as file:\n",
    "    for link in all_links:\n",
    "        file.write(f\"{link}\\n\")"
   ]
  },
  {
   "cell_type": "code",
   "execution_count": 9,
   "metadata": {},
   "outputs": [],
   "source": [
    "# Save the error hyperlinks to a text file\n",
    "with open(\"errorAnnapurnaHeadline301to433.txt\", \"w\") as file:\n",
    "    for link in error_links:\n",
    "        file.write(f\"{link}\\n\")"
   ]
  },
  {
   "cell_type": "code",
   "execution_count": 10,
   "metadata": {},
   "outputs": [
    {
     "name": "stdout",
     "output_type": "stream",
     "text": [
      "Hyperlinks saved to AnnapurnaPostHeadline301to433.txt\n",
      "Error hyperlinks saved to errorAnnapurnaHeadline301to433.txt\n"
     ]
    }
   ],
   "source": [
    "print(f\"Hyperlinks saved to AnnapurnaPostHeadline301to433.txt\")\n",
    "print(f\"Error hyperlinks saved to errorAnnapurnaHeadline301to433.txt\")"
   ]
  },
  {
   "cell_type": "code",
   "execution_count": null,
   "metadata": {},
   "outputs": [],
   "source": []
  },
  {
   "cell_type": "code",
   "execution_count": null,
   "metadata": {},
   "outputs": [],
   "source": []
  }
 ],
 "metadata": {
  "kernelspec": {
   "display_name": "env",
   "language": "python",
   "name": "python3"
  },
  "language_info": {
   "codemirror_mode": {
    "name": "ipython",
    "version": 3
   },
   "file_extension": ".py",
   "mimetype": "text/x-python",
   "name": "python",
   "nbconvert_exporter": "python",
   "pygments_lexer": "ipython3",
   "version": "3.10.12"
  }
 },
 "nbformat": 4,
 "nbformat_minor": 2
}
