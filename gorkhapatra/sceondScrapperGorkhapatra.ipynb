{
 "cells": [
  {
   "cell_type": "code",
   "execution_count": 155,
   "metadata": {},
   "outputs": [],
   "source": [
    "import requests\n",
    "from bs4 import BeautifulSoup"
   ]
  },
  {
   "cell_type": "code",
   "execution_count": 156,
   "metadata": {},
   "outputs": [],
   "source": [
    "base_url = \"https://gorkhapatraonline.com/categories/gorkhapatra-special?page=\"\n",
    "start_page = 1\n",
    "end_page = 76\n",
    "all_links = []"
   ]
  },
  {
   "cell_type": "code",
   "execution_count": 157,
   "metadata": {},
   "outputs": [],
   "source": [
    "# Create a text file to save hyperlinks\n",
    "hyperlinks_file = open(\"GorkhaPatraSpecial.txt\", \"w\")"
   ]
  },
  {
   "cell_type": "code",
   "execution_count": 158,
   "metadata": {},
   "outputs": [],
   "source": [
    "# Create a set to store error hyperlinks\n",
    "error_links = set()"
   ]
  },
  {
   "cell_type": "code",
   "execution_count": 159,
   "metadata": {},
   "outputs": [],
   "source": [
    "\n",
    "for page in range(start_page, end_page+1):\n",
    "    url = f\"{base_url}{page}\"\n",
    "\n",
    "    response = requests.get(url)\n",
    "\n",
    "    soup = BeautifulSoup(response.content, \"html.parser\")\n",
    "\n",
    "    headlines = soup.find_all(\"div\", class_=\"item-content\")\n",
    "    links = [headline.a[\"href\"] for headline in headlines]\n",
    "\n",
    "    all_links.extend(links)\n",
    "\n",
    "    # Try to access the hyperlink, and if an error occurs, add it to the error_links set\n",
    "    for link in links:\n",
    "        try:\n",
    "            response = requests.get(link)\n",
    "            response.raise_for_status()\n",
    "        except requests.exceptions.RequestException:\n",
    "            error_links.add(link)"
   ]
  },
  {
   "cell_type": "code",
   "execution_count": 160,
   "metadata": {},
   "outputs": [],
   "source": [
    "# Close the files\n",
    "hyperlinks_file.close()"
   ]
  },
  {
   "cell_type": "code",
   "execution_count": 161,
   "metadata": {},
   "outputs": [],
   "source": [
    "# Save the hyperlinks to a text file\n",
    "with open(\"GorkhaPatraSpecial.txt\", \"w\") as file:\n",
    "    for link in all_links:\n",
    "        file.write(f\"{link}\\n\")"
   ]
  },
  {
   "cell_type": "code",
   "execution_count": 162,
   "metadata": {},
   "outputs": [],
   "source": [
    "# Save the error hyperlinks to a text file\n",
    "with open(\"errorSpecial_hyperlinks.txt\", \"w\") as file:\n",
    "    for link in error_links:\n",
    "        file.write(f\"{link}\\n\")"
   ]
  },
  {
   "cell_type": "code",
   "execution_count": 163,
   "metadata": {},
   "outputs": [
    {
     "name": "stdout",
     "output_type": "stream",
     "text": [
      "Hyperlinks saved to hyperlinks.txt\n",
      "Error hyperlinks saved to error_hyperlinks.txt\n"
     ]
    }
   ],
   "source": [
    "print(f\"Hyperlinks saved to hyperlinks.txt\")\n",
    "print(f\"Error hyperlinks saved to error_hyperlinks.txt\")"
   ]
  },
  {
   "cell_type": "code",
   "execution_count": null,
   "metadata": {},
   "outputs": [],
   "source": []
  },
  {
   "cell_type": "code",
   "execution_count": null,
   "metadata": {},
   "outputs": [],
   "source": []
  },
  {
   "cell_type": "code",
   "execution_count": null,
   "metadata": {},
   "outputs": [],
   "source": []
  }
 ],
 "metadata": {
  "kernelspec": {
   "display_name": "env",
   "language": "python",
   "name": "python3"
  },
  "language_info": {
   "codemirror_mode": {
    "name": "ipython",
    "version": 3
   },
   "file_extension": ".py",
   "mimetype": "text/x-python",
   "name": "python",
   "nbconvert_exporter": "python",
   "pygments_lexer": "ipython3",
   "version": "3.10.12"
  },
  "orig_nbformat": 4
 },
 "nbformat": 4,
 "nbformat_minor": 2
}
