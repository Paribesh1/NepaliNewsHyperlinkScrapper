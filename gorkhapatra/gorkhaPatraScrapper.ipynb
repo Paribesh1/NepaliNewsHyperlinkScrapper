{
 "cells": [
  {
   "cell_type": "code",
   "execution_count": 10,
   "metadata": {},
   "outputs": [],
   "source": [
    "import requests\n",
    "from bs4 import BeautifulSoup"
   ]
  },
  {
   "cell_type": "code",
   "execution_count": 14,
   "metadata": {},
   "outputs": [],
   "source": [
    "base_url = \"https://gorkhapatraonline.com/categories/national?page=\"\n",
    "total_pages = 10\n",
    "all_links = []"
   ]
  },
  {
   "cell_type": "code",
   "execution_count": 15,
   "metadata": {},
   "outputs": [],
   "source": [
    "# Create a text file to save hyperlinks\n",
    "hyperlinks_file = open(\"GorkhaPatra1to10.txt\", \"w\")"
   ]
  },
  {
   "cell_type": "code",
   "execution_count": 16,
   "metadata": {},
   "outputs": [],
   "source": [
    "# Create a set to store error hyperlinks\n",
    "error_links = set()"
   ]
  },
  {
   "cell_type": "code",
   "execution_count": 17,
   "metadata": {},
   "outputs": [],
   "source": [
    "for page in range(1, total_pages+1):\n",
    "    url = f\"{base_url}{page}\"\n",
    "\n",
    "    response = requests.get(url)\n",
    "\n",
    "    soup = BeautifulSoup(response.content, \"html.parser\")\n",
    "\n",
    "    headlines = soup.find_all(\"div\", class_=\"item-content\")\n",
    "    links = [headline.a[\"href\"] for headline in headlines]\n",
    "\n",
    "    all_links.extend(links)\n",
    "\n",
    "    # Try to access the hyperlink, and if an error occurs, add it to the error_links set\n",
    "    for link in links:\n",
    "        try:\n",
    "            response = requests.get(link)\n",
    "            response.raise_for_status()\n",
    "        except requests.exceptions.RequestException:\n",
    "            error_links.add(link)\n"
   ]
  },
  {
   "cell_type": "code",
   "execution_count": 18,
   "metadata": {},
   "outputs": [],
   "source": [
    "# Close the files\n",
    "hyperlinks_file.close()"
   ]
  },
  {
   "cell_type": "code",
   "execution_count": 19,
   "metadata": {},
   "outputs": [],
   "source": [
    "# Save the hyperlinks to a text file\n",
    "with open(\"GorkhaPatra1to10.txt\", \"w\") as file:\n",
    "    for link in all_links:\n",
    "        file.write(f\"{link}\\n\")"
   ]
  },
  {
   "cell_type": "code",
   "execution_count": 20,
   "metadata": {},
   "outputs": [],
   "source": [
    "# Save the error hyperlinks to a text file\n",
    "with open(\"error1to10_hyperlinks.txt\", \"w\") as file:\n",
    "    for link in error_links:\n",
    "        file.write(f\"{link}\\n\")"
   ]
  },
  {
   "cell_type": "code",
   "execution_count": 21,
   "metadata": {},
   "outputs": [
    {
     "name": "stdout",
     "output_type": "stream",
     "text": [
      "Hyperlinks saved to hyperlinks.txt\n",
      "Error hyperlinks saved to error_hyperlinks.txt\n"
     ]
    }
   ],
   "source": [
    "print(f\"Hyperlinks saved to hyperlinks.txt\")\n",
    "print(f\"Error hyperlinks saved to error_hyperlinks.txt\")"
   ]
  },
  {
   "cell_type": "code",
   "execution_count": null,
   "metadata": {},
   "outputs": [],
   "source": []
  }
 ],
 "metadata": {
  "kernelspec": {
   "display_name": "env",
   "language": "python",
   "name": "python3"
  },
  "language_info": {
   "codemirror_mode": {
    "name": "ipython",
    "version": 3
   },
   "file_extension": ".py",
   "mimetype": "text/x-python",
   "name": "python",
   "nbconvert_exporter": "python",
   "pygments_lexer": "ipython3",
   "version": "3.10.12"
  },
  "orig_nbformat": 4
 },
 "nbformat": 4,
 "nbformat_minor": 2
}
